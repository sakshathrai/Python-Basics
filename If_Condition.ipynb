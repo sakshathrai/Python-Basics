{
 "cells": [
  {
   "cell_type": "markdown",
   "id": "c9271a2f",
   "metadata": {},
   "source": [
    "# Exercise: Python If Condition"
   ]
  },
  {
   "cell_type": "markdown",
   "id": "38a8c624",
   "metadata": {},
   "source": [
    "# 1. Using following list of cities per country,\n",
    "india = [\"mumbai\", \"banglore\", \"chennai\", \"delhi\"]\n",
    "pakistan = [\"lahore\",\"karachi\",\"islamabad\"]\n",
    "bangladesh = [\"dhaka\", \"khulna\", \"rangpur\"]\n",
    "\n",
    "i. Write a program that asks user to enter a city name and it should tell which country the city belongs to\n",
    "\n",
    "ii.Write a program that asks user to enter two cities and it tells you if they both are in same country or not. For example if I enter mumbai and chennai, it will print \"Both cities are in India\" but if I enter mumbai and dhaka it should print \"They don't belong to same country\""
   ]
  },
  {
   "cell_type": "code",
   "execution_count": 1,
   "id": "a2633863",
   "metadata": {},
   "outputs": [
    {
     "name": "stdout",
     "output_type": "stream",
     "text": [
      "Enter the city name: delhi\n",
      "delhi is in India\n"
     ]
    }
   ],
   "source": [
    "india = [\"mumbai\", \"banglore\", \"chennai\", \"delhi\"] \n",
    "pakistan = [\"lahore\",\"karachi\",\"islamabad\"] \n",
    "bangladesh = [\"dhaka\", \"khulna\", \"rangpur\"]\n",
    "city=input(\"Enter the city name: \")\n",
    "\n",
    "if city in india:\n",
    "    print(f'{city} is in India')\n",
    "    \n",
    "elif city in pakistan:\n",
    "    print(f'{city} is in Pakistan')    \n",
    "\n",
    "elif city in bangladesh:\n",
    "    print(f'{city} is in Bangladesh')   \n",
    "    \n",
    "else:\n",
    "    print(f'{city} is not in any of these county') "
   ]
  },
  {
   "cell_type": "markdown",
   "id": "3edc9307",
   "metadata": {},
   "source": [
    "# Write a python program that can tell you if your sugar is normal or not. Normal fasting level sugar range is 80 to 100.\n",
    "i.   Ask user to enter his fasting sugar level\n",
    "\n",
    "ii.  If it is below 80 to 100 range then print that sugar is low\n",
    "\n",
    "iii. If it is above 100 then print that it is high otherwise print that it is normal"
   ]
  },
  {
   "cell_type": "code",
   "execution_count": 6,
   "id": "08334d57",
   "metadata": {},
   "outputs": [
    {
     "name": "stdout",
     "output_type": "stream",
     "text": [
      "Enter the fasting sugar level: 90\n",
      "Your sugar level is Normal\n"
     ]
    }
   ],
   "source": [
    "level=input(\"Enter the fasting sugar level: \")\n",
    "level=int(level)\n",
    "if level<80:\n",
    "    print(\"Your sugar level is LOW!!\")\n",
    "elif level>100:\n",
    "    print(\"Your sugar level is HIGH!!\")\n",
    "else:\n",
    "    print(\"Your sugar level is Normal\")\n",
    "    \n",
    "    "
   ]
  }
 ],
 "metadata": {
  "kernelspec": {
   "display_name": "Python 3.10 (tensorflow)",
   "language": "python",
   "name": "tensorflow"
  },
  "language_info": {
   "codemirror_mode": {
    "name": "ipython",
    "version": 3
   },
   "file_extension": ".py",
   "mimetype": "text/x-python",
   "name": "python",
   "nbconvert_exporter": "python",
   "pygments_lexer": "ipython3",
   "version": "3.10.9"
  }
 },
 "nbformat": 4,
 "nbformat_minor": 5
}
