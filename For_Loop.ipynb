{
 "cells": [
  {
   "cell_type": "markdown",
   "id": "004451b8",
   "metadata": {},
   "source": [
    "# Exercise: Python for loop"
   ]
  },
  {
   "cell_type": "markdown",
   "id": "38568499",
   "metadata": {},
   "source": [
    "Q1. Using for loop figure out how many times you got heads\n",
    "\n",
    "result = [\"heads\",\"tails\",\"tails\",\"heads\",\"tails\",\"heads\",\"heads\",\"tails\",\"tails\",\"tails\"]"
   ]
  },
  {
   "cell_type": "code",
   "execution_count": 10,
   "id": "b01e858a",
   "metadata": {},
   "outputs": [
    {
     "name": "stdout",
     "output_type": "stream",
     "text": [
      "No. of tails in result list is 4\n"
     ]
    }
   ],
   "source": [
    "result = [\"heads\",\"tails\",\"tails\",\"heads\",\"tails\",\"heads\",\"heads\",\"tails\",\"tails\",\"tails\"]\n",
    "count=0\n",
    "for i in result:\n",
    "    if i=='heads':\n",
    "        count=count+1\n",
    "    else:\n",
    "        continue\n",
    "print(f'No. of tails in result list is {count}')        "
   ]
  },
  {
   "cell_type": "markdown",
   "id": "be38b212",
   "metadata": {},
   "source": [
    "Q2. Print square of all numbers between 1 to 10 except even numbers"
   ]
  },
  {
   "cell_type": "code",
   "execution_count": 14,
   "id": "e99488d2",
   "metadata": {},
   "outputs": [
    {
     "name": "stdout",
     "output_type": "stream",
     "text": [
      "Square of 1 is 1\n",
      "Square of 2 is 4\n",
      "Square of 3 is 9\n",
      "Square of 4 is 16\n",
      "Square of 5 is 25\n",
      "Square of 6 is 36\n",
      "Square of 7 is 49\n",
      "Square of 8 is 64\n",
      "Square of 9 is 81\n",
      "Square of 10 is 100\n"
     ]
    }
   ],
   "source": [
    "for i in range(1,11):\n",
    "    print(f'Square of {i} is {i**2}')"
   ]
  },
  {
   "cell_type": "markdown",
   "id": "fee0e20b",
   "metadata": {},
   "source": [
    "Q3. Your monthly expense list (from Jan to May) looks like this,\n",
    "\n",
    "expense_list = [2340, 2500, 2100, 3100, 2980]\n",
    "\n",
    "Write a program that asks you to enter an expense amount and program should tell you in which month that expense occurred. If expense is not found then it should print that as well.\n"
   ]
  },
  {
   "cell_type": "code",
   "execution_count": 13,
   "id": "cc906ea9",
   "metadata": {},
   "outputs": [
    {
     "name": "stdout",
     "output_type": "stream",
     "text": [
      "Enter the Expense amount: 2980\n",
      "2980 was the expense of May\n"
     ]
    }
   ],
   "source": [
    "expense_list = [2340, 2500, 2100, 3100, 2980]\n",
    "month=['Jan','Feb','March','April','May']\n",
    "amt=input(\"Enter the Expense amount: \")\n",
    "amt=int(amt)\n",
    "for i in range(len(expense_list)):\n",
    "    if amt==expense_list[i]:\n",
    "        print(f'{amt} was the expense of {month[i]}')\n",
    "        break\n",
    "\n",
    "else:\n",
    "        print(\"Expense is not found\")\n",
    "        "
   ]
  },
  {
   "cell_type": "markdown",
   "id": "7911b82f",
   "metadata": {},
   "source": [
    "Q4. Lets say you are running a 5 km race. Write a program that,\n",
    "\n",
    "i.   Upon completing each 1 km asks you \"are you tired?\"\n",
    "\n",
    "ii.  If you reply \"yes\" then it should break and print \"you didn't finish the race\"\n",
    "\n",
    "iii. If you reply \"no\" then it should continue and ask \"are you tired\" on every km\n",
    "\n",
    "iv.  If you finish all 5 km then it should print congratulations message\n"
   ]
  },
  {
   "cell_type": "code",
   "execution_count": 9,
   "id": "a094209e",
   "metadata": {},
   "outputs": [
    {
     "name": "stdout",
     "output_type": "stream",
     "text": [
      "You Finish 1km\n",
      "\n",
      "Are you tired?\n",
      "no\n",
      "You Finish 2km\n",
      "\n",
      "Are you tired?\n",
      "no\n",
      "You Finish 3km\n",
      "\n",
      "Are you tired?\n",
      "no\n",
      "You Finish 4km\n",
      "\n",
      "Are you tired?\n",
      "no\n",
      "You Finish 4km\n",
      "\n",
      "Congratulations🏆\n"
     ]
    }
   ],
   "source": [
    "for i in range(4):\n",
    "        print(f\"You Finish {i+1}km\\n\")\n",
    "        ch=input(\"Are you tired?\\n\")\n",
    "        if ch==\"yes\":\n",
    "            break\n",
    "if i==3:\n",
    "    print(f\"You Finish {i+1}km\\n\")\n",
    "    print(\"Congratulations🏆\")\n",
    "\n",
    "else:\n",
    "    print(\"You didn't finish the race\")"
   ]
  },
  {
   "cell_type": "markdown",
   "id": "47c45ae6",
   "metadata": {},
   "source": [
    "Q5. Write a program that prints following shape\n",
    "\n",
    "# *\n",
    "# **\n",
    "# ***\n",
    "# ****\n",
    "# *****"
   ]
  },
  {
   "cell_type": "code",
   "execution_count": 6,
   "id": "01ba8fc3",
   "metadata": {},
   "outputs": [
    {
     "name": "stdout",
     "output_type": "stream",
     "text": [
      "*\n",
      "**\n",
      "***\n",
      "****\n",
      "*****\n"
     ]
    }
   ],
   "source": [
    "for i in range(1,6):\n",
    "    s = ''\n",
    "    for j in range(i):\n",
    "        s += '*'\n",
    "    print(s)"
   ]
  }
 ],
 "metadata": {
  "kernelspec": {
   "display_name": "Python 3.10 (tensorflow)",
   "language": "python",
   "name": "tensorflow"
  },
  "language_info": {
   "codemirror_mode": {
    "name": "ipython",
    "version": 3
   },
   "file_extension": ".py",
   "mimetype": "text/x-python",
   "name": "python",
   "nbconvert_exporter": "python",
   "pygments_lexer": "ipython3",
   "version": "3.10.9"
  }
 },
 "nbformat": 4,
 "nbformat_minor": 5
}
