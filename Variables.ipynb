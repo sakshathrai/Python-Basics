{
 "cells": [
  {
   "cell_type": "code",
   "execution_count": 7,
   "id": "816a669c",
   "metadata": {},
   "outputs": [
    {
     "name": "stdout",
     "output_type": "stream",
     "text": [
      "3\n"
     ]
    }
   ],
   "source": [
    "# To store data we use variables\n",
    "a=1\n",
    "b=2\n",
    "c=a+b\n",
    "print(a+b)"
   ]
  },
  {
   "cell_type": "markdown",
   "id": "f774a378",
   "metadata": {},
   "source": [
    "Exercise: Python Variables"
   ]
  },
  {
   "cell_type": "markdown",
   "id": "d01ebc78",
   "metadata": {},
   "source": [
    "# 1. Create a variable called break and assign it a value 5. See what happens and find out the reason behind the behavior that you see"
   ]
  },
  {
   "cell_type": "code",
   "execution_count": 14,
   "id": "bf0aa237",
   "metadata": {},
   "outputs": [
    {
     "ename": "SyntaxError",
     "evalue": "invalid syntax (1556297844.py, line 1)",
     "output_type": "error",
     "traceback": [
      "\u001b[0;36m  Cell \u001b[0;32mIn[14], line 1\u001b[0;36m\u001b[0m\n\u001b[0;31m    break = 5\u001b[0m\n\u001b[0m          ^\u001b[0m\n\u001b[0;31mSyntaxError\u001b[0m\u001b[0;31m:\u001b[0m invalid syntax\n"
     ]
    }
   ],
   "source": [
    "break = 5\n",
    "break\n",
    "\n",
    "#break is a keyword"
   ]
  },
  {
   "cell_type": "markdown",
   "id": "79260911",
   "metadata": {},
   "source": [
    "# 2. Create two variables. One to store your birth year and another one to store current year. Now calculate your age using these two variables"
   ]
  },
  {
   "cell_type": "code",
   "execution_count": 15,
   "id": "e3772434",
   "metadata": {},
   "outputs": [
    {
     "data": {
      "text/plain": [
       "19"
      ]
     },
     "execution_count": 15,
     "metadata": {},
     "output_type": "execute_result"
    }
   ],
   "source": [
    "birth_year=2004\n",
    "cur_year=2023\n",
    "age=cur_year-birth_year\n",
    "age"
   ]
  },
  {
   "cell_type": "markdown",
   "id": "636c3d7b",
   "metadata": {},
   "source": [
    "# 3. Store your first, middle and last name in three different variables and then print your full name using these variables"
   ]
  },
  {
   "cell_type": "code",
   "execution_count": 16,
   "id": "7d3aacb6",
   "metadata": {},
   "outputs": [
    {
     "name": "stdout",
     "output_type": "stream",
     "text": [
      "Sakshath Rai K\n"
     ]
    }
   ],
   "source": [
    "first='Sakshath '\n",
    "middle='Rai '\n",
    "last='K'\n",
    "print(first + middle + last)"
   ]
  },
  {
   "cell_type": "markdown",
   "id": "d77298f1",
   "metadata": {},
   "source": [
    " # 4. Answer which of these are invalid variable names: _nation 1record record1 record_one record-one record^one continue"
   ]
  },
  {
   "cell_type": "markdown",
   "id": "ac6577ee",
   "metadata": {},
   "source": [
    "# -> 1record, record-one,record^one, contine"
   ]
  }
 ],
 "metadata": {
  "kernelspec": {
   "display_name": "Python 3.10 (tensorflow)",
   "language": "python",
   "name": "tensorflow"
  },
  "language_info": {
   "codemirror_mode": {
    "name": "ipython",
    "version": 3
   },
   "file_extension": ".py",
   "mimetype": "text/x-python",
   "name": "python",
   "nbconvert_exporter": "python",
   "pygments_lexer": "ipython3",
   "version": "3.10.9"
  }
 },
 "nbformat": 4,
 "nbformat_minor": 5
}
