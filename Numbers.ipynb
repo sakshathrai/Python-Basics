{
 "cells": [
  {
   "cell_type": "markdown",
   "id": "306f67d3",
   "metadata": {},
   "source": [
    "# Area of Triangle :\n",
    "\n",
    " Formula for area of triange is area = (1/2)*base*height"
   ]
  },
  {
   "cell_type": "code",
   "execution_count": 8,
   "id": "8f389b53",
   "metadata": {},
   "outputs": [
    {
     "name": "stdout",
     "output_type": "stream",
     "text": [
      "Area of Triangle : \n",
      "\n"
     ]
    },
    {
     "data": {
      "text/plain": [
       "104.55"
      ]
     },
     "execution_count": 8,
     "metadata": {},
     "output_type": "execute_result"
    }
   ],
   "source": [
    "base=10.2\n",
    "height=20.5\n",
    "area=(1/2)*base*height\n",
    "print(\"Area of Triangle : \\n\")\n",
    "area"
   ]
  },
  {
   "cell_type": "markdown",
   "id": "8520fad2",
   "metadata": {},
   "source": [
    "# Data Types:"
   ]
  },
  {
   "cell_type": "code",
   "execution_count": 10,
   "id": "94ca225e",
   "metadata": {},
   "outputs": [
    {
     "data": {
      "text/plain": [
       "float"
      ]
     },
     "execution_count": 10,
     "metadata": {},
     "output_type": "execute_result"
    }
   ],
   "source": [
    "type(10.2)"
   ]
  },
  {
   "cell_type": "code",
   "execution_count": 11,
   "id": "6eb7565e",
   "metadata": {},
   "outputs": [
    {
     "data": {
      "text/plain": [
       "bool"
      ]
     },
     "execution_count": 11,
     "metadata": {},
     "output_type": "execute_result"
    }
   ],
   "source": [
    "type(True)"
   ]
  },
  {
   "cell_type": "code",
   "execution_count": 12,
   "id": "e6ba5e60",
   "metadata": {},
   "outputs": [
    {
     "data": {
      "text/plain": [
       "int"
      ]
     },
     "execution_count": 12,
     "metadata": {},
     "output_type": "execute_result"
    }
   ],
   "source": [
    "type(1)"
   ]
  },
  {
   "cell_type": "code",
   "execution_count": 13,
   "id": "d8afdbc6",
   "metadata": {},
   "outputs": [
    {
     "data": {
      "text/plain": [
       "str"
      ]
     },
     "execution_count": 13,
     "metadata": {},
     "output_type": "execute_result"
    }
   ],
   "source": [
    "type(\"Abcd\")"
   ]
  },
  {
   "cell_type": "code",
   "execution_count": 36,
   "id": "424339e6",
   "metadata": {},
   "outputs": [
    {
     "data": {
      "text/plain": [
       "str"
      ]
     },
     "execution_count": 36,
     "metadata": {},
     "output_type": "execute_result"
    }
   ],
   "source": [
    "type(\"1234\")"
   ]
  },
  {
   "cell_type": "code",
   "execution_count": 39,
   "id": "9ff70ddf",
   "metadata": {},
   "outputs": [
    {
     "data": {
      "text/plain": [
       "complex"
      ]
     },
     "execution_count": 39,
     "metadata": {},
     "output_type": "execute_result"
    }
   ],
   "source": [
    "c1=2+3j\n",
    "type(c1)"
   ]
  },
  {
   "cell_type": "code",
   "execution_count": 19,
   "id": "bb8f9458",
   "metadata": {},
   "outputs": [],
   "source": [
    "# Round off a float number:\n",
    "#ex:\n",
    "foo=1.349439483984983"
   ]
  },
  {
   "cell_type": "code",
   "execution_count": 20,
   "id": "2d94b8c8",
   "metadata": {},
   "outputs": [
    {
     "data": {
      "text/plain": [
       "1.35"
      ]
     },
     "execution_count": 20,
     "metadata": {},
     "output_type": "execute_result"
    }
   ],
   "source": [
    "round(foo,2)"
   ]
  },
  {
   "cell_type": "code",
   "execution_count": 21,
   "id": "f457c888",
   "metadata": {},
   "outputs": [
    {
     "data": {
      "text/plain": [
       "1.3494"
      ]
     },
     "execution_count": 21,
     "metadata": {},
     "output_type": "execute_result"
    }
   ],
   "source": [
    "round(foo,4)"
   ]
  },
  {
   "cell_type": "markdown",
   "id": "8c06b920",
   "metadata": {},
   "source": [
    "# Operations:"
   ]
  },
  {
   "cell_type": "code",
   "execution_count": 22,
   "id": "8eeebe58",
   "metadata": {},
   "outputs": [
    {
     "data": {
      "text/plain": [
       "3"
      ]
     },
     "execution_count": 22,
     "metadata": {},
     "output_type": "execute_result"
    }
   ],
   "source": [
    "1+2"
   ]
  },
  {
   "cell_type": "code",
   "execution_count": 23,
   "id": "4d6f0d96",
   "metadata": {},
   "outputs": [
    {
     "data": {
      "text/plain": [
       "1.0"
      ]
     },
     "execution_count": 23,
     "metadata": {},
     "output_type": "execute_result"
    }
   ],
   "source": [
    "2/2"
   ]
  },
  {
   "cell_type": "code",
   "execution_count": 29,
   "id": "fecb6e30",
   "metadata": {},
   "outputs": [
    {
     "data": {
      "text/plain": [
       "2"
      ]
     },
     "execution_count": 29,
     "metadata": {},
     "output_type": "execute_result"
    }
   ],
   "source": [
    "2%10  # reminder is the answer"
   ]
  },
  {
   "cell_type": "code",
   "execution_count": 32,
   "id": "29ccec74",
   "metadata": {},
   "outputs": [
    {
     "data": {
      "text/plain": [
       "8"
      ]
     },
     "execution_count": 32,
     "metadata": {},
     "output_type": "execute_result"
    }
   ],
   "source": [
    "2**3   #power of a number"
   ]
  },
  {
   "cell_type": "code",
   "execution_count": 40,
   "id": "6d4b3bce",
   "metadata": {},
   "outputs": [
    {
     "data": {
      "text/plain": [
       "16"
      ]
     },
     "execution_count": 40,
     "metadata": {},
     "output_type": "execute_result"
    }
   ],
   "source": [
    "10+2*3  # BODMASS rule, if we need we can use bracket to avoid this rule"
   ]
  },
  {
   "cell_type": "markdown",
   "id": "01f9b1df",
   "metadata": {},
   "source": [
    "# Exercise: Numbers in python:"
   ]
  },
  {
   "cell_type": "markdown",
   "id": "2169a01e",
   "metadata": {},
   "source": [
    "# 1. You have a football field that is 92 meter long and 48.8 meter wide. Find out total area using python and print it."
   ]
  },
  {
   "cell_type": "code",
   "execution_count": 55,
   "id": "355cd4ef",
   "metadata": {},
   "outputs": [
    {
     "name": "stdout",
     "output_type": "stream",
     "text": [
      "Area of Football field is 4489.6\n"
     ]
    }
   ],
   "source": [
    "length=92\n",
    "breath=48.8\n",
    "area=length*breath\n",
    "print(\"Area of Football field is \"+str(round(area,2)))"
   ]
  },
  {
   "cell_type": "markdown",
   "id": "62f551d1",
   "metadata": {},
   "source": [
    "# 2. You bought 9 packets of potato chips from a store. Each packet costs 1.49 dollar and you gave shopkeeper 20 dollar. Find out using python, how many dollars is the shopkeeper going to give you back?"
   ]
  },
  {
   "cell_type": "code",
   "execution_count": 58,
   "id": "fff111cf",
   "metadata": {},
   "outputs": [
    {
     "name": "stdout",
     "output_type": "stream",
     "text": [
      "Shopkeeper gives back 6.59\n"
     ]
    }
   ],
   "source": [
    "no_pac=9\n",
    "cost=1.49\n",
    "given=20\n",
    "amt=no_pac*cost\n",
    "back=given-amt\n",
    "print(\"Shopkeeper gives back \"+str(back))"
   ]
  },
  {
   "cell_type": "markdown",
   "id": "a3da27c3",
   "metadata": {},
   "source": [
    "# 3. You want to replace tiles in your bathroom which is exactly square and 5.5 feet is its length. If tiles cost 500 rs per square feet, how much will be the total cost to replace all tiles. Calculate and print the cost using python (Hint: Use power operator ** to find area of a square)"
   ]
  },
  {
   "cell_type": "code",
   "execution_count": 60,
   "id": "7c935a6c",
   "metadata": {},
   "outputs": [
    {
     "name": "stdout",
     "output_type": "stream",
     "text": [
      "Total cost for tiles is 15125.0\n"
     ]
    }
   ],
   "source": [
    "area=5.5**2\n",
    "cost=500\n",
    "amt=500*area\n",
    "print(\"Total cost for tiles is \"+str(amt))"
   ]
  },
  {
   "cell_type": "markdown",
   "id": "f0944359",
   "metadata": {},
   "source": [
    "# 4. Print binary representation of number 17"
   ]
  },
  {
   "cell_type": "code",
   "execution_count": 61,
   "id": "bea98158",
   "metadata": {},
   "outputs": [
    {
     "data": {
      "text/plain": [
       "'10001'"
      ]
     },
     "execution_count": 61,
     "metadata": {},
     "output_type": "execute_result"
    }
   ],
   "source": [
    "format(17,'b')"
   ]
  }
 ],
 "metadata": {
  "kernelspec": {
   "display_name": "Python 3 (ipykernel)",
   "language": "python",
   "name": "python3"
  },
  "language_info": {
   "codemirror_mode": {
    "name": "ipython",
    "version": 3
   },
   "file_extension": ".py",
   "mimetype": "text/x-python",
   "name": "python",
   "nbconvert_exporter": "python",
   "pygments_lexer": "ipython3",
   "version": "3.10.9"
  }
 },
 "nbformat": 4,
 "nbformat_minor": 5
}
