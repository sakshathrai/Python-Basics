{
 "cells": [
  {
   "cell_type": "markdown",
   "id": "a6f51b24",
   "metadata": {},
   "source": [
    "# Exercise: String in Python"
   ]
  },
  {
   "cell_type": "markdown",
   "id": "443be4e7",
   "metadata": {},
   "source": [
    "# 1. Create 3 variables to store street, city and country, now create address variable to store entire address. Use two ways of creating this variable, one using + operator and the other using f-string. Now Print the address in such a way that the street, city and country prints in a separate line"
   ]
  },
  {
   "cell_type": "code",
   "execution_count": 10,
   "id": "3d0a59eb",
   "metadata": {},
   "outputs": [
    {
     "name": "stdout",
     "output_type": "stream",
     "text": [
      "Address 1 is: Paldane\n",
      "Mangalore\n",
      "India\n",
      "Address 2 is:Paldane\n",
      "Mangalore\n",
      "India\n"
     ]
    }
   ],
   "source": [
    "street='Paldane'\n",
    "city='Mangalore'\n",
    "country='India'\n",
    "print(\"Address 1 is:\", street+\"\\n\"+city+\"\\n\"+country)\n",
    "print(f'Address 2 is:{street}\\n{city}\\n{country}')"
   ]
  },
  {
   "cell_type": "markdown",
   "id": "dd600846",
   "metadata": {},
   "source": [
    "# 2. Create a variable to store the string \"Earth revolves around the sun\"\n",
    "##    1) Print \"revolves\" using slice operator\n",
    "##    2) Print \"sun\" using negative index"
   ]
  },
  {
   "cell_type": "code",
   "execution_count": 31,
   "id": "889fa5f0",
   "metadata": {},
   "outputs": [
    {
     "name": "stdout",
     "output_type": "stream",
     "text": [
      "Using slice: revolves\n",
      "Using - index: sun\n"
     ]
    }
   ],
   "source": [
    "sen=\"Earth revolves around the sun\"\n",
    "print(\"Using slice: \"+sen[6:14])\n",
    "print(\"Using - index: \"+sen[-3:])"
   ]
  },
  {
   "cell_type": "markdown",
   "id": "aaa10177",
   "metadata": {},
   "source": [
    "# 3. Create two variables to store how many fruits and vegetables you eat in a day. Now Print \"I eat x veggies and y fruits daily\" where x and y presents vegetables and fruits that you eat everyday. Use python f string for this."
   ]
  },
  {
   "cell_type": "code",
   "execution_count": 32,
   "id": "1da26fc3",
   "metadata": {},
   "outputs": [
    {
     "name": "stdout",
     "output_type": "stream",
     "text": [
      "I eat 2 veggies and 4 fruits daily \n"
     ]
    }
   ],
   "source": [
    "y=4\n",
    "x=2\n",
    "print(f'I eat {x} veggies and {y} fruits daily ')"
   ]
  },
  {
   "cell_type": "markdown",
   "id": "bacaedc3",
   "metadata": {},
   "source": [
    "# 4. I have a string variable called s='maine 200 banana khaye'. This of course is a wrong statement, the correct statement is 'maine 10 samosa khaye'. Replace incorrect words in original strong with new ones and print the new string. Also try to do this in one line."
   ]
  },
  {
   "cell_type": "code",
   "execution_count": 38,
   "id": "14290acf",
   "metadata": {},
   "outputs": [
    {
     "name": "stdout",
     "output_type": "stream",
     "text": [
      "maine 10 samosa khaye\n"
     ]
    }
   ],
   "source": [
    "s='maine 200 banana khaye'\n",
    "s=s.replace('200','10').replace('banana','samosa')\n",
    "print(s)"
   ]
  }
 ],
 "metadata": {
  "kernelspec": {
   "display_name": "Python 3.10 (tensorflow)",
   "language": "python",
   "name": "tensorflow"
  },
  "language_info": {
   "codemirror_mode": {
    "name": "ipython",
    "version": 3
   },
   "file_extension": ".py",
   "mimetype": "text/x-python",
   "name": "python",
   "nbconvert_exporter": "python",
   "pygments_lexer": "ipython3",
   "version": "3.10.9"
  }
 },
 "nbformat": 4,
 "nbformat_minor": 5
}
