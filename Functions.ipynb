{
 "cells": [
  {
   "cell_type": "markdown",
   "id": "37f53a84",
   "metadata": {},
   "source": [
    "# Exercise: Functions in python"
   ]
  },
  {
   "cell_type": "markdown",
   "id": "05223aa8",
   "metadata": {},
   "source": [
    "Q1. Write a function called calculate_area that takes base and height as an input and returns and area of a triangle. Equation of an area of a triangle is,\n",
    "\n",
    "area = (1/2)* base * height"
   ]
  },
  {
   "cell_type": "code",
   "execution_count": 5,
   "id": "2df9481a",
   "metadata": {},
   "outputs": [
    {
     "name": "stdout",
     "output_type": "stream",
     "text": [
      "Enter the value of Base: 5\n",
      "Enter the value of Height: 10\n",
      "Area of a triangle is 25\n"
     ]
    }
   ],
   "source": [
    "def calculate_area(base,height):\n",
    "    base=float(base)\n",
    "    height=float(height)\n",
    "    area = (1/2)*base*height\n",
    "    area=int(area)\n",
    "    return area\n",
    "base=input(\"Enter the value of Base: \")\n",
    "height=input(\"Enter the value of Height: \")\n",
    "print(f'Area of a triangle is {calculate_area(base=base,height=height)}')"
   ]
  },
  {
   "cell_type": "markdown",
   "id": "d61429d6",
   "metadata": {},
   "source": [
    "Q2. Modify above function to take third parameter shape type. It can be either \"triangle\" or \"rectangle\". Based on shape type it will calculate area. Equation of rectangle's area is,\n",
    "\n",
    "rectangle area=length*width\n",
    "\n",
    "If no shape is supplied then it should take triangle as a default shape"
   ]
  },
  {
   "cell_type": "code",
   "execution_count": 12,
   "id": "d9beddaf",
   "metadata": {},
   "outputs": [
    {
     "data": {
      "text/plain": [
       "50"
      ]
     },
     "execution_count": 12,
     "metadata": {},
     "output_type": "execute_result"
    }
   ],
   "source": [
    "def calculate_area(p1,p2,shape=\"triange\"):\n",
    "    if shape==\"triangle\":\n",
    "        area=(1/2)*p1*p2\n",
    "        area=int(area)\n",
    "    elif shape==\"rectangle\":\n",
    "        area=p1*p2\n",
    "        area=int(area)\n",
    "    else:\n",
    "        print(\"Error\")\n",
    "    return area\n",
    "\n",
    "p1=5\n",
    "p2=10\n",
    "calculate_area(p1,p2,shape=\"rectangle\")"
   ]
  },
  {
   "cell_type": "markdown",
   "id": "0715541f",
   "metadata": {},
   "source": [
    "Q3. Write a function called print_pattern that takes integer number as an argument and prints following pattern if input number is 3,\n",
    "\n",
    "##  *\n",
    "##  **\n",
    "##  ***"
   ]
  },
  {
   "cell_type": "code",
   "execution_count": 34,
   "id": "b05c7c24",
   "metadata": {
    "scrolled": true
   },
   "outputs": [
    {
     "name": "stdout",
     "output_type": "stream",
     "text": [
      "Enter the no. of line to print: 4\n",
      "\n",
      "\n",
      "*\n",
      "\n",
      "**\n",
      "\n",
      "***\n",
      "\n",
      "****\n",
      "\n"
     ]
    }
   ],
   "source": [
    "def print_pattern(no):\n",
    "    for i in range(no+1):\n",
    "        for j in range(i):\n",
    "            print(\"*\",end='')\n",
    "        print(\"\\n\")  \n",
    "        \n",
    "no=input(\"Enter the no. of line to print: \") \n",
    "no=int(no)\n",
    "print_pattern(no)"
   ]
  }
 ],
 "metadata": {
  "kernelspec": {
   "display_name": "Python 3.10 (tensorflow)",
   "language": "python",
   "name": "tensorflow"
  },
  "language_info": {
   "codemirror_mode": {
    "name": "ipython",
    "version": 3
   },
   "file_extension": ".py",
   "mimetype": "text/x-python",
   "name": "python",
   "nbconvert_exporter": "python",
   "pygments_lexer": "ipython3",
   "version": "3.10.9"
  }
 },
 "nbformat": 4,
 "nbformat_minor": 5
}
