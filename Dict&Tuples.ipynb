{
 "cells": [
  {
   "cell_type": "markdown",
   "id": "9d18c0e7",
   "metadata": {},
   "source": [
    "# Exercise: Python Dict and Tuples"
   ]
  },
  {
   "cell_type": "markdown",
   "id": "34c1c9b8",
   "metadata": {},
   "source": [
    "# Q1. We have following information on countries and their population (population is in crores),\n",
    "\n",
    "Country------Population\n",
    "\n",
    "China\t ===>     143\n",
    "\n",
    "India    ===>     136\n",
    "\n",
    "USA\t     ===>     32\n",
    "\n",
    "Pakistan ===>\t  21"
   ]
  },
  {
   "cell_type": "markdown",
   "id": "d10f241a",
   "metadata": {},
   "source": [
    "i.  Using above create a dictionary of countries and its population\n",
    "\n",
    "ii. Write a program that asks user for three type of inputs,\n",
    "\n",
    "print: if user enter print then it should print all countries with their population in this format,\n",
    "\n",
    "china==>143\n",
    "\n",
    "india==>136\n",
    "\n",
    "usa==>32\n",
    "\n",
    "pakistan==>21\n",
    "\n",
    "b). add: if user input add then it should further ask for a country name to add. If country already exist in our dataset then it should print that it exist and do nothing. If it doesn't then it asks for population and add that new country/population in our dictionary and print it\n",
    "\n",
    "c). remove: when user inputs remove it should ask for a country to remove. If country exist in our dictionary then remove it and print new dictionary using format shown above in (a). Else print that country doesn't exist!\n",
    "\n",
    "d). query: on this again ask user for which country he or she wants to query. When user inputs that country it will print population of that country."
   ]
  },
  {
   "cell_type": "code",
   "execution_count": null,
   "id": "b7495e14",
   "metadata": {},
   "outputs": [
    {
     "name": "stdout",
     "output_type": "stream",
     "text": [
      "Enter the Task to be performed (print,add,remove,query): print\n",
      "China==>143\n",
      "India==>136\n",
      "USA==>32\n",
      "Pakistan==>21\n",
      "Enter the Task to be performed (print,add,remove,query): remove\n",
      "Enter country name to remove:pakistan\n",
      "China==>143\n",
      "India==>136\n",
      "USA==>32\n",
      "Enter the Task to be performed (print,add,remove,query): add\n",
      "Enter the Country name: sri lanka\n",
      "Enter the population for Sri lanka2.22\n",
      "China==>143\n",
      "India==>136\n",
      "USA==>32\n",
      "Sri lanka==>2.22\n",
      "Enter the Task to be performed (print,add,remove,query): query\n",
      "Enter the Country name: usa\n",
      "Usa does not exist in our dataset\n",
      "Enter the Task to be performed (print,add,remove,query): query\n",
      "Enter the Country name: USA\n",
      "Usa does not exist in our dataset\n",
      "Enter the Task to be performed (print,add,remove,query): query\n",
      "Enter the Country name: India\n",
      "\n",
      "India==>136\n"
     ]
    }
   ],
   "source": [
    "dic={'China':'143','India':'136','USA':'32','Pakistan':'21'}\n",
    "\n",
    "def print_all():\n",
    "    for dicc in dic:\n",
    "        print(f'{dicc}==>{dic[dicc]}')\n",
    "    \n",
    "\n",
    "def add():\n",
    "    country=input(\"Enter the Country name: \")\n",
    "    country=country.capitalize()\n",
    "    if country in dic:\n",
    "        print(\"Already exist in our dataset\")\n",
    "        return\n",
    "    p=input(f\"Enter the population for {country}\")\n",
    "    p=float(p)\n",
    "    dic[country]=p\n",
    "    print_all()        \n",
    "            \n",
    "            \n",
    "def remove():\n",
    "    country = input(\"Enter country name to remove:\")\n",
    "    country = country.capitalize()\n",
    "    if country not in dic:\n",
    "        print(\"Country doesn't exist in our dataset. Terminating\")\n",
    "        return\n",
    "    del dic[country]\n",
    "    print_all()\n",
    "                            \n",
    "def query():\n",
    "    country=input(\"Enter the Country name: \")\n",
    "    country=country.capitalize()\n",
    "    if country not in dic:\n",
    "        print(f\"{country} does not exist in our dataset\")\n",
    "        return\n",
    "    print(f'\\n{country}==>{dic[country]}')\n",
    "                \n",
    "def main():\n",
    "    for i in range(10):\n",
    "        inn=input(\"Enter the Task to be performed (print,add,remove,query): \")\n",
    "        if inn=='print':\n",
    "            print_all()\n",
    "        elif inn=='add':\n",
    "            add()\n",
    "        elif inn=='remove': \n",
    "            remove()\n",
    "        elif inn=='query':    \n",
    "            query()\n",
    "        else:\n",
    "            print(\"Error\")\n",
    "        \n",
    "if __name__ == '__main__':\n",
    "    main()        "
   ]
  },
  {
   "cell_type": "markdown",
   "id": "8edb4601",
   "metadata": {},
   "source": [
    "# Q2. You are given following list of stocks and their prices in last 3 days,\n",
    "\n",
    "Stock\tPrices\n",
    "\n",
    "info\t[600,630,620]\n",
    "\n",
    "ril\t[1430,1490,1567]\n",
    "\n",
    "mtl\t[234,180,160]\n",
    "\n",
    "Write a program that asks user for operation. Value of operations could be,\n",
    "\n",
    "a) print: When user enters print it should print following,\n",
    "    \n",
    "info ==> [600, 630, 620] ==> avg:  616.67\n",
    "    \n",
    "ril ==> [1430, 1490, 1567] ==> avg:  1495.67\n",
    "    \n",
    "mtl ==> [234, 180, 160] ==> avg:  191.33\n",
    "    \n",
    "b) add: When user enters 'add', it asks for stock ticker and price. If stock already exist in your list (like info, ril etc) then it will append the price to the list. Otherwise it will create new entry in your dictionary. For example entering 'tata' and 560 will add tata ==> [560] to the dictionary of stocks."
   ]
  },
  {
   "cell_type": "code",
   "execution_count": null,
   "id": "42c54758",
   "metadata": {},
   "outputs": [
    {
     "name": "stdout",
     "output_type": "stream",
     "text": [
      "Enter the Task to be performed (print,add): print\n",
      "{'Info': [600, 630, 620], 'Ril': [1430, 1490, 1567], 'Mtl': [234, 180, 160]} ==> [234, 180, 160] ==> avg:  191.33\n",
      "Enter the Task to be performed (print,add): add\n",
      "Enter the Company name: axiom\n",
      "Enter the Stock price for Axiom432\n",
      "{'Info': [600, 630, 620], 'Ril': [1430, 1490, 1567], 'Mtl': [234, 180, 160], 'Axiom': [432.0]} ==> [432.0] ==> avg:  432.0\n"
     ]
    }
   ],
   "source": [
    "import statistics\n",
    "\n",
    "stock={'Info':[600,630,620],'Ril':[1430, 1490, 1567],'Mtl':[234, 180, 160]}\n",
    "\n",
    "def print_all():\n",
    "    for sto,price_list in stock.items():\n",
    "        avg = statistics.mean(price_list)\n",
    "    print(f\"{stock} ==> {price_list} ==> avg: \",round(avg,2))\n",
    "\n",
    "\n",
    "def add():\n",
    "    com=input(\"Enter the Company name: \")\n",
    "    com=com.capitalize()\n",
    "    if com in stock:\n",
    "        print(\"Already exist in our dataset\")\n",
    "        p=input(f\"Enter the Stock price for {com}\")\n",
    "        p=p\n",
    "        stock[com].append(p)\n",
    "        return\n",
    "    p=input(f\"Enter the Stock price for {com}\")\n",
    "    p=float(p)\n",
    "    stock[com]=[p]\n",
    "    print_all()        \n",
    "            \n",
    "               \n",
    "def main():\n",
    "    for i in range(10):\n",
    "        inn=input(\"Enter the Task to be performed (print,add): \")\n",
    "        if inn=='print':\n",
    "            print_all()\n",
    "        elif inn=='add':\n",
    "            add()\n",
    "        else:\n",
    "            print(\"Error\")\n",
    "        \n",
    "if __name__ == '__main__':\n",
    "    main()        "
   ]
  },
  {
   "cell_type": "markdown",
   "id": "9feef464",
   "metadata": {},
   "source": [
    "# Q3. Write circle_calc() function that takes radius of a circle as an input from user and then it calculates and returns area, circumference and diameter. You should get these values in your main program by calling circle_calc function and then print them\n"
   ]
  },
  {
   "cell_type": "code",
   "execution_count": 3,
   "id": "0420ad1b",
   "metadata": {},
   "outputs": [
    {
     "name": "stdout",
     "output_type": "stream",
     "text": [
      "Enter the radius of the circle: 5\n",
      "Area of the circle is 78.5\n",
      "Circumference of the circle is 31.400000000000002\n",
      "Diameter is 10.0\n"
     ]
    }
   ],
   "source": [
    "def circle_calc(rad):\n",
    "    rad=float(rad)\n",
    "    area=3.14*(rad**2)\n",
    "    dim=2.0*rad\n",
    "    circum=2.0*3.14*rad\n",
    "    return area,dim,circum\n",
    "\n",
    "def main():\n",
    "    rad=input(\"Enter the radius of the circle: \")\n",
    "    area,dim,circum=circle_calc(rad)\n",
    "    print(f\"Area of the circle is {area}\")\n",
    "    print(f\"Circumference of the circle is {circum}\")\n",
    "    print(f\"Diameter is {dim}\")\n",
    "    \n",
    "if __name__=='__main__':\n",
    "    main()"
   ]
  }
 ],
 "metadata": {
  "kernelspec": {
   "display_name": "Python 3.10 (tensorflow)",
   "language": "python",
   "name": "tensorflow"
  },
  "language_info": {
   "codemirror_mode": {
    "name": "ipython",
    "version": 3
   },
   "file_extension": ".py",
   "mimetype": "text/x-python",
   "name": "python",
   "nbconvert_exporter": "python",
   "pygments_lexer": "ipython3",
   "version": "3.10.9"
  }
 },
 "nbformat": 4,
 "nbformat_minor": 5
}
