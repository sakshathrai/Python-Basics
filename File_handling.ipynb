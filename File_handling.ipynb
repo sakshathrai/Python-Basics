{
 "cells": [
  {
   "cell_type": "code",
   "execution_count": 10,
   "id": "4869bdc4",
   "metadata": {},
   "outputs": [],
   "source": [
    "file = open(\"file1.txt\", \"w\")\n",
    "file.write(\"I love Python\\n\")\n",
    "file.close() "
   ]
  },
  {
   "cell_type": "code",
   "execution_count": 11,
   "id": "b95a7513",
   "metadata": {},
   "outputs": [
    {
     "name": "stdout",
     "output_type": "stream",
     "text": [
      "I love Python\n",
      "\n"
     ]
    }
   ],
   "source": [
    "f=open(\"file1.txt\",\"r\")\n",
    "for line in f:\n",
    "    print(line)\n",
    "f.close()"
   ]
  },
  {
   "cell_type": "code",
   "execution_count": 12,
   "id": "38cb27d3",
   "metadata": {},
   "outputs": [
    {
     "name": "stdout",
     "output_type": "stream",
     "text": [
      "I love Python\n",
      "\n"
     ]
    }
   ],
   "source": [
    "f=open(\"file1.txt\",\"r\")\n",
    "lines = f.readlines()\n",
    "print(line)\n",
    "f.close() "
   ]
  },
  {
   "cell_type": "code",
   "execution_count": 17,
   "id": "4e5da36c",
   "metadata": {},
   "outputs": [],
   "source": [
    "# Over write the file if we exicutes same\n",
    "file = open(\"file1.txt\", \"w\")\n",
    "file.write(\"I love Java\\n\")\n",
    "file.close() "
   ]
  },
  {
   "cell_type": "code",
   "execution_count": 18,
   "id": "77733435",
   "metadata": {},
   "outputs": [
    {
     "name": "stdout",
     "output_type": "stream",
     "text": [
      "I love Java\n",
      "\n"
     ]
    }
   ],
   "source": [
    "f=open(\"file1.txt\",\"r\")\n",
    "for line in f:\n",
    "    print(line)\n",
    "f.close()"
   ]
  },
  {
   "cell_type": "code",
   "execution_count": 19,
   "id": "2a39abd4",
   "metadata": {},
   "outputs": [],
   "source": [
    "# \"a\" is the append with add new txt to end of the sentence\n",
    "file=open(\"file1.txt\",\"a\")\n",
    "file.write(\"I am Java developer\")\n",
    "file.close()"
   ]
  },
  {
   "cell_type": "code",
   "execution_count": 25,
   "id": "d8f5572a",
   "metadata": {},
   "outputs": [
    {
     "name": "stdout",
     "output_type": "stream",
     "text": [
      "I love Java\n",
      "\n",
      "I am Java developer\n"
     ]
    }
   ],
   "source": [
    "f=open(\"file1.txt\",\"r\")\n",
    "for line in f:\n",
    "    print(line)\n",
    "f.close() "
   ]
  },
  {
   "cell_type": "code",
   "execution_count": 26,
   "id": "8fa7a207",
   "metadata": {},
   "outputs": [],
   "source": [
    "# multi line write\n",
    "file=open(\"file1.txt\",\"a\")\n",
    "file.writelines([\n",
    "    \"\\nI am Student\\n\",\n",
    "    \"I am 19 years old\\n\"\n",
    "])\n",
    "file.close()"
   ]
  },
  {
   "cell_type": "code",
   "execution_count": 27,
   "id": "6f233ac9",
   "metadata": {},
   "outputs": [
    {
     "name": "stdout",
     "output_type": "stream",
     "text": [
      "I love Java\n",
      "\n",
      "I am Java developer\n",
      "\n",
      "I am Student\n",
      "\n",
      "I am 19 years old\n",
      "\n"
     ]
    }
   ],
   "source": [
    "f=open(\"file1.txt\",\"r\")\n",
    "for line in f:\n",
    "    print(line)\n",
    "f.close()"
   ]
  },
  {
   "cell_type": "code",
   "execution_count": 29,
   "id": "c4da1745",
   "metadata": {},
   "outputs": [
    {
     "name": "stdout",
     "output_type": "stream",
     "text": [
      "rohit,9\n",
      "\n",
      "shakib,56\n",
      "\n",
      "babar,56\n",
      "\n",
      "rohit,120\n",
      "\n",
      "rohit,105\n",
      "\n",
      "shakib,78\n",
      "\n",
      "rohit,140\n",
      "\n",
      "babar,45\n",
      "\n",
      "rohit,130\n",
      "\n",
      "shakib,102\n",
      "\n",
      "babar,120\n",
      "\n",
      "babar,5\n",
      "\n",
      "shakib,72\n",
      "\n",
      "babar,67\n"
     ]
    }
   ],
   "source": [
    "file=open(\"scores.csv\",\"r\")\n",
    "for line in file:\n",
    "    print(line)\n",
    "file.close()"
   ]
  },
  {
   "cell_type": "code",
   "execution_count": 41,
   "id": "f3c20ec0",
   "metadata": {},
   "outputs": [
    {
     "name": "stdout",
     "output_type": "stream",
     "text": [
      "rohit==>Min Score: 9, Max Score: 140, Avg Score: 100.8\n",
      "shakib==>Min Score: 56, Max Score: 102, Avg Score: 77.0\n",
      "babar==>Min Score: 5, Max Score: 120, Avg Score: 58.6\n"
     ]
    }
   ],
   "source": [
    "player_score={}\n",
    "file=open(\"scores.csv\",\"r\")\n",
    "for line in file:\n",
    "    token=line.split(',')\n",
    "    player=token[0]\n",
    "    score=int(token[1])\n",
    "    if player in player_score:\n",
    "        player_score[player].append(score)\n",
    "    else:\n",
    "        player_score[player]=[score]\n",
    "for player,score_list in player_score.items():\n",
    "    min_score=min(score_list)\n",
    "    max_score=max(score_list)\n",
    "    avg_score=sum(score_list)/len(score_list)\n",
    "    print(f\"{player}==>Min Score: {min_score}, Max Score: {max_score}, Avg Score: {avg_score}\")"
   ]
  },
  {
   "cell_type": "markdown",
   "id": "ac1b50bf",
   "metadata": {},
   "source": [
    " # Exercise: Python Read Write File"
   ]
  },
  {
   "cell_type": "markdown",
   "id": "4bbdd25a",
   "metadata": {},
   "source": [
    "Q1. poem.txt contains famous poem \"Road not taken\" by poet Robert Frost. You have to read this file in your python program and find out words with maximum occurance.\n"
   ]
  },
  {
   "cell_type": "code",
   "execution_count": 45,
   "id": "44ec24e4",
   "metadata": {},
   "outputs": [
    {
     "name": "stdout",
     "output_type": "stream",
     "text": [
      "Max occurances of any word is: 8\n",
      "Words with max occurances are: \n",
      "I\n",
      "the\n"
     ]
    }
   ],
   "source": [
    "word_stats={}\n",
    "\n",
    "with open(\"poem.txt\",\"r\") as f:\n",
    "    for line in f:\n",
    "      words=line.split(' ')\n",
    "      for word in words:\n",
    "        if word in word_stats:\n",
    "          word_stats[word]+=1\n",
    "        else:\n",
    "          word_stats[word] = 1\n",
    "\n",
    "word_occurances = list(word_stats.values())\n",
    "max_count = max(word_occurances)\n",
    "print(\"Max occurances of any word is:\",max_count)\n",
    "\n",
    "print(\"Words with max occurances are: \")\n",
    "for word, count in word_stats.items():\n",
    "    if count==max_count:\n",
    "        print(word)"
   ]
  },
  {
   "cell_type": "markdown",
   "id": "ac934e4d",
   "metadata": {},
   "source": [
    "Q2.  stocks.csv contains stock price, earnings per share and book value. You are writing a stock market application that will process this file and create a new file with financial metrics such as pe ratio and price to book ratio. These are calculated as,\n",
    "\n",
    "pe ratio = price / earnings per share\n",
    "\n",
    "price to book ratio = price / book value\n",
    "\n",
    "Your input format (stocks.csv) is,\n",
    "\n",
    "Company Name\tPrice\tEarnings Per Share\tBook Value\n",
    "\n",
    "Reliance\t1467\t66\t653\n",
    "\n",
    "Tata Steel\t391\t89\t572\n",
    "\n",
    "Output.csv should look like this,\n",
    "\n",
    "Company Name\tPE Ratio\tPB Ratio\n",
    "\n",
    "Reliance\t22.23\t2.25\n",
    "\n",
    "Tata Steel\t4.39\t0.68"
   ]
  },
  {
   "cell_type": "code",
   "execution_count": 46,
   "id": "39d34eae",
   "metadata": {},
   "outputs": [],
   "source": [
    "with open(\"stocks.csv\", \"r\") as f, open(\"output.csv\", \"w\") as out:\n",
    "    out.write(\"Company Name,PE Ratio, PB Ratio\\n\")\n",
    "    next(f)  # This will skip first line in the file which is a header\n",
    "    for line in f:\n",
    "        tokens = line.split(\",\")\n",
    "        stock = tokens[0]\n",
    "        price = float(tokens[1])\n",
    "        eps = float(tokens[2])\n",
    "        book = float(tokens[3])\n",
    "        pe = round(price / eps, 2)\n",
    "        pb = round(price / book, 2)\n",
    "        out.write(f\"{stock},{pe},{pb}\\n\")"
   ]
  },
  {
   "cell_type": "code",
   "execution_count": null,
   "id": "21d977f1",
   "metadata": {},
   "outputs": [],
   "source": []
  }
 ],
 "metadata": {
  "kernelspec": {
   "display_name": "Python 3.10 (tensorflow)",
   "language": "python",
   "name": "tensorflow"
  },
  "language_info": {
   "codemirror_mode": {
    "name": "ipython",
    "version": 3
   },
   "file_extension": ".py",
   "mimetype": "text/x-python",
   "name": "python",
   "nbconvert_exporter": "python",
   "pygments_lexer": "ipython3",
   "version": "3.10.9"
  }
 },
 "nbformat": 4,
 "nbformat_minor": 5
}
