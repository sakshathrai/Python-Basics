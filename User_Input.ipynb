{
 "cells": [
  {
   "cell_type": "markdown",
   "id": "2dad68c5",
   "metadata": {},
   "source": [
    "# Exercise: Python User Input"
   ]
  },
  {
   "cell_type": "markdown",
   "id": "3fbbfb11",
   "metadata": {},
   "source": [
    "# 1. Write a program that can find area of a triangle. It should take base and height as an input from user and using that it should print an area of a triangle"
   ]
  },
  {
   "cell_type": "code",
   "execution_count": 3,
   "id": "dcef241a",
   "metadata": {},
   "outputs": [
    {
     "name": "stdout",
     "output_type": "stream",
     "text": [
      "Enter value of base: 2.5\n",
      "Enter value of height: 5\n",
      "Area of triange is 12.5\n"
     ]
    }
   ],
   "source": [
    "base=input(\"Enter value of base: \")\n",
    "height=input(\"Enter value of height: \")\n",
    "area=float(base)*float(height)\n",
    "print(\"Area of triange is \"+str(area))"
   ]
  },
  {
   "cell_type": "markdown",
   "id": "c7e3bf82",
   "metadata": {},
   "source": [
    "# 2. Write a program that takes file name with extension as an input and prints just the file name without extension (you can assume that file extensions are always 3 character long)"
   ]
  },
  {
   "cell_type": "code",
   "execution_count": 1,
   "id": "e18ee05d",
   "metadata": {},
   "outputs": [
    {
     "name": "stdout",
     "output_type": "stream",
     "text": [
      "Rename the filehello.txt\n",
      "File name is : hello\n"
     ]
    }
   ],
   "source": [
    "file=input(\"Rename the file\")\n",
    "file_name=file[:-4]\n",
    "print(\"File name is : \" +file_name)"
   ]
  }
 ],
 "metadata": {
  "kernelspec": {
   "display_name": "Python 3.10 (tensorflow)",
   "language": "python",
   "name": "tensorflow"
  },
  "language_info": {
   "codemirror_mode": {
    "name": "ipython",
    "version": 3
   },
   "file_extension": ".py",
   "mimetype": "text/x-python",
   "name": "python",
   "nbconvert_exporter": "python",
   "pygments_lexer": "ipython3",
   "version": "3.10.9"
  }
 },
 "nbformat": 4,
 "nbformat_minor": 5
}
