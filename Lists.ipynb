{
 "cells": [
  {
   "cell_type": "markdown",
   "id": "1a62c0ea",
   "metadata": {},
   "source": [
    "# Exercise: Python Lists"
   ]
  },
  {
   "cell_type": "markdown",
   "id": "bf2cbe69",
   "metadata": {},
   "source": [
    "# 1. Let us say your expense for every month are listed below,\n",
    " January - 2200\n",
    " February - 2350\n",
    " March - 2600\n",
    " April - 2130\n",
    " May - 2190\n",
    " Create a list to store these monthly expenses and using that find out, \n",
    "1. In Feb, how many dollars you spent extra compare to January?\n",
    "2. Find out your total expense in first quarter (first three months) of the year.\n",
    "3. Find out if you spent exactly 2000 dollars in any month\n",
    "4. June month just finished and your expense is 1980 dollar. Add this item to our monthly expense list\n",
    "5. You returned an item that you bought in a month of April and\n",
    "got a refund of 200$. Make a correction to your monthly expense list\n",
    "based on this"
   ]
  },
  {
   "cell_type": "code",
   "execution_count": 15,
   "id": "aa99bdce",
   "metadata": {},
   "outputs": [
    {
     "name": "stdout",
     "output_type": "stream",
     "text": [
      "1. 150 was spend extra in feb compare to jan\n",
      "2. Total expense in first quarter is 7150\n",
      "\n",
      " The Final List [2200, 2350, 2600, 2330, 2190, 1980]\n"
     ]
    }
   ],
   "source": [
    "expense=[2200,2350,2600,2130,2190]\n",
    "\n",
    "# Q.1\n",
    "feb_extra=expense[1]-expense[0]\n",
    "print(f'1. {feb_extra} was spend extra in feb compare to jan')\n",
    "\n",
    "# Q.2\n",
    "first_qtr=expense[0]+expense[1]+expense[2]\n",
    "print(f'2. Total expense in first quarter is {first_qtr}')\n",
    "\n",
    "# Q.3\n",
    "3000 in expense\n",
    "\n",
    "# Q.4\n",
    "expense.append(1980)\n",
    "\n",
    "# Q.5\n",
    "expense[3]=expense[3]+200\n",
    "print(\"\\n The Final List\",expense)"
   ]
  },
  {
   "cell_type": "markdown",
   "id": "6ccbd92c",
   "metadata": {},
   "source": [
    "# You have a list of your favourite marvel super heros.\n",
    " heros=['spider man','thor','hulk','iron man','captain america'],\n",
    " Using this find out,\n",
    "\n",
    "1. Length of the list\n",
    "2. Add 'black panther' at the end of this list\n",
    "3. You realize that you need to add 'black panther' after 'hulk',\n",
    "   so remove it from the list first and then add it after 'hulk'\n",
    "4. Now you don't like thor and hulk because they get angry easily :)\n",
    "   So you want to remove thor and hulk from list and replace them with doctor strange (because he is cool).\n",
    "   Do that with one line of code.\n",
    "5. Sort the heros list in alphabetical order (Hint. Use dir() functions to list down all functions available in list)"
   ]
  },
  {
   "cell_type": "code",
   "execution_count": 34,
   "id": "2da334b8",
   "metadata": {},
   "outputs": [
    {
     "name": "stdout",
     "output_type": "stream",
     "text": [
      "1. The Length of the list is 5\n",
      "2. ['spider man', 'thor', 'hulk', 'iron man', 'captain america', 'black panther']\n",
      "3. ['spider man', 'thor', 'black panther', 'hulk', 'iron man', 'captain america']\n",
      "4. ['spider man', ['doctor strange'], 'black panther', 'iron man', 'captain america']\n"
     ]
    },
    {
     "ename": "TypeError",
     "evalue": "'<' not supported between instances of 'list' and 'str'",
     "output_type": "error",
     "traceback": [
      "\u001b[0;31m---------------------------------------------------------------------------\u001b[0m",
      "\u001b[0;31mTypeError\u001b[0m                                 Traceback (most recent call last)",
      "Cell \u001b[0;32mIn[34], line 20\u001b[0m\n\u001b[1;32m     17\u001b[0m \u001b[38;5;28mprint\u001b[39m(\u001b[38;5;124m'\u001b[39m\u001b[38;5;124m4.\u001b[39m\u001b[38;5;124m'\u001b[39m,heros)\n\u001b[1;32m     19\u001b[0m \u001b[38;5;66;03m# Q.5    #Question wrong\u001b[39;00m\n\u001b[0;32m---> 20\u001b[0m \u001b[43mheros\u001b[49m\u001b[38;5;241;43m.\u001b[39;49m\u001b[43msort\u001b[49m\u001b[43m(\u001b[49m\u001b[43m)\u001b[49m\n\u001b[1;32m     21\u001b[0m \u001b[38;5;28mprint\u001b[39m(\u001b[38;5;124m'\u001b[39m\u001b[38;5;124m5.\u001b[39m\u001b[38;5;124m'\u001b[39m,heros)\n",
      "\u001b[0;31mTypeError\u001b[0m: '<' not supported between instances of 'list' and 'str'"
     ]
    }
   ],
   "source": [
    "heros=['spider man','thor','hulk','iron man','captain america']\n",
    "# Q.1\n",
    "print(f'1. The Length of the list is {len(heros)}')\n",
    "\n",
    "# Q.2\n",
    "heros.append('black panther')\n",
    "print('2.',heros)\n",
    "\n",
    "# Q.3\n",
    "heros.remove('black panther')\n",
    "heros.insert(2,'black panther')\n",
    "print('3.',heros)\n",
    "\n",
    "# Q.4\n",
    "heros[1]=['doctor strange']\n",
    "heros.remove('hulk')\n",
    "print('4.',heros)\n",
    "\n",
    "# Q.5    #Question wrong\n",
    "heros.sort()\n",
    "print('5.',heros)\n"
   ]
  },
  {
   "cell_type": "code",
   "execution_count": null,
   "id": "2c9e180b",
   "metadata": {},
   "outputs": [],
   "source": []
  }
 ],
 "metadata": {
  "kernelspec": {
   "display_name": "Python 3.10 (tensorflow)",
   "language": "python",
   "name": "tensorflow"
  },
  "language_info": {
   "codemirror_mode": {
    "name": "ipython",
    "version": 3
   },
   "file_extension": ".py",
   "mimetype": "text/x-python",
   "name": "python",
   "nbconvert_exporter": "python",
   "pygments_lexer": "ipython3",
   "version": "3.10.9"
  }
 },
 "nbformat": 4,
 "nbformat_minor": 5
}
